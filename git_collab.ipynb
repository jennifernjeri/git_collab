colors = []
team_index = 0
color_index = 0

while team_index < len(soccer_match):
    while color_index < len(soccer_match[team_index]['colors']):
        colors.append(soccer_match[team_index]['colors'][color_index])
        color_index += 1
    color_index = 0
    team_index += 1
    
print("The jersey colors for all the teams are: ", colors)

